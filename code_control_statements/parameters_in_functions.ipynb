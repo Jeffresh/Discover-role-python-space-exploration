{
 "metadata": {
  "language_info": {
   "codemirror_mode": {
    "name": "ipython",
    "version": 3
   },
   "file_extension": ".py",
   "mimetype": "text/x-python",
   "name": "python",
   "nbconvert_exporter": "python",
   "pygments_lexer": "ipython3",
   "version": "3.8.5-final"
  },
  "orig_nbformat": 2,
  "kernelspec": {
   "name": "python_defaultSpec_1600354039620",
   "display_name": "Python 3.8.5 32-bit"
  }
 },
 "nbformat": 4,
 "nbformat_minor": 2,
 "cells": [
  {
   "source": [
    "# Use parameters to specify variability in functions\n",
    "\n",
    "Another interesting aspect of functions is that variables created inside them exist only inside the function. For example, this code would fail because we create the rocket_number variable inside the function`and then try to use it outside the funciton. Python doesn't know about that variable outside the funciton so it will produce an error.\n",
    "\n"
   ],
   "cell_type": "markdown",
   "metadata": {}
  },
  {
   "cell_type": "code",
   "execution_count": null,
   "metadata": {
    "tags": []
   },
   "outputs": [],
   "source": [
    "def output_rocket_text():\n",
    "    rocket_number = 1\n",
    "    print(\"Rocket will launch soon!\")\n",
    "\n",
    "output_rocket_text()\n",
    "print(rocket_number)"
   ]
  },
  {
   "source": [
    "Along with this, if you have variables created outside a function you can access them inside a function but you can't change them."
   ],
   "cell_type": "markdown",
   "metadata": {}
  },
  {
   "cell_type": "code",
   "execution_count": 6,
   "metadata": {
    "tags": []
   },
   "outputs": [
    {
     "output_type": "error",
     "ename": "UnboundLocalError",
     "evalue": "local variable 'rocket_text' referenced before assignment",
     "traceback": [
      "\u001b[1;31m---------------------------------------------------------------------------\u001b[0m",
      "\u001b[1;31mUnboundLocalError\u001b[0m                         Traceback (most recent call last)",
      "\u001b[1;32m<ipython-input-6-ca20b1c35c41>\u001b[0m in \u001b[0;36m<module>\u001b[1;34m\u001b[0m\n\u001b[0;32m      3\u001b[0m     \u001b[0mrocket_text\u001b[0m \u001b[1;33m=\u001b[0m \u001b[0mrocket_text\u001b[0m \u001b[1;33m+\u001b[0m \u001b[1;34m\" two days\"\u001b[0m\u001b[1;33m\u001b[0m\u001b[1;33m\u001b[0m\u001b[0m\n\u001b[0;32m      4\u001b[0m \u001b[1;33m\u001b[0m\u001b[0m\n\u001b[1;32m----> 5\u001b[1;33m \u001b[0moutput_rocket_text\u001b[0m\u001b[1;33m(\u001b[0m\u001b[1;33m)\u001b[0m\u001b[1;33m\u001b[0m\u001b[1;33m\u001b[0m\u001b[0m\n\u001b[0m",
      "\u001b[1;32m<ipython-input-6-ca20b1c35c41>\u001b[0m in \u001b[0;36moutput_rocket_text\u001b[1;34m()\u001b[0m\n\u001b[0;32m      1\u001b[0m \u001b[0mrocket_text\u001b[0m \u001b[1;33m=\u001b[0m \u001b[1;34m\"We will launch in\"\u001b[0m\u001b[1;33m\u001b[0m\u001b[1;33m\u001b[0m\u001b[0m\n\u001b[0;32m      2\u001b[0m \u001b[1;32mdef\u001b[0m \u001b[0moutput_rocket_text\u001b[0m\u001b[1;33m(\u001b[0m\u001b[1;33m)\u001b[0m\u001b[1;33m:\u001b[0m\u001b[1;33m\u001b[0m\u001b[1;33m\u001b[0m\u001b[0m\n\u001b[1;32m----> 3\u001b[1;33m     \u001b[0mrocket_text\u001b[0m \u001b[1;33m=\u001b[0m \u001b[0mrocket_text\u001b[0m \u001b[1;33m+\u001b[0m \u001b[1;34m\" two days\"\u001b[0m\u001b[1;33m\u001b[0m\u001b[1;33m\u001b[0m\u001b[0m\n\u001b[0m\u001b[0;32m      4\u001b[0m \u001b[1;33m\u001b[0m\u001b[0m\n\u001b[0;32m      5\u001b[0m \u001b[0moutput_rocket_text\u001b[0m\u001b[1;33m(\u001b[0m\u001b[1;33m)\u001b[0m\u001b[1;33m\u001b[0m\u001b[1;33m\u001b[0m\u001b[0m\n",
      "\u001b[1;31mUnboundLocalError\u001b[0m: local variable 'rocket_text' referenced before assignment"
     ]
    }
   ],
   "source": [
    "rocket_text = \"We will launch in\"\n",
    "def output_rocket_text():\n",
    "    rocket_text = rocket_text + \" two days\"\n",
    "\n",
    "output_rocket_text()"
   ]
  },
  {
   "source": [
    "As you can see, this cod eproduces an error as well, because we are trying to modify a variable that was created outside a function.\n",
    "\n",
    "To combat this, we can do one of two things:\n",
    "- Make a variable a global variable\n",
    "- Give a variable to the function, so it knowns what the variable is and then return it\n",
    "\n",
    "The easiest weay to change the value of a variable inside a funciton is to make it a global variable. Everything in the program can modify a global variable, even if it is modified inside a function. To make a somethin a gloval variable, you must make a variable before you call the function and then include a line in your function that gives the global variable name:\n",
    "\n"
   ],
   "cell_type": "markdown",
   "metadata": {}
  },
  {
   "cell_type": "code",
   "execution_count": 8,
   "metadata": {
    "tags": []
   },
   "outputs": [
    {
     "output_type": "stream",
     "name": "stdout",
     "text": "We will launch in two days\n"
    }
   ],
   "source": [
    "rocket_text = \"We will launch in\"\n",
    "\n",
    "def output_rocket_text():\n",
    "    global rocket_text\n",
    "    rocket_text  = rocket_text + \" two days\"\n",
    "\n",
    "out_rocket_text()\n",
    "print(rocket_text)"
   ]
  },
  {
   "source": [
    "Another way to modify variables inside a function is to use parameters. Parameters are when you give a function knowledge of a variable when you call it. To tell Python you want your functions to have parameters, use the following code:"
   ],
   "cell_type": "markdown",
   "metadata": {}
  },
  {
   "cell_type": "code",
   "execution_count": 11,
   "metadata": {
    "tags": []
   },
   "outputs": [
    {
     "output_type": "stream",
     "name": "stdout",
     "text": "We will launch in two days\n"
    }
   ],
   "source": [
    "def output_rocket_text(text_input):\n",
    "    text_input = text_input + \" two days\"\n",
    "    return text_input\n",
    "\n",
    "rocket_text = \"We will launch in\"\n",
    "new_rocket_text = output_rocket_text(rocket_text)\n",
    "print(new_rocket_text)"
   ]
  },
  {
   "source": [
    "You can then use that variable inside the function, but it will have a new name, which is the name inside the parentheses. Also, the function will only change this new variable inside the function. To get the value from the function varaible back into the code outisde the function, you must return it. Do this by adding the varaible name after the return keyword."
   ],
   "cell_type": "markdown",
   "metadata": {}
  }
 ]
}