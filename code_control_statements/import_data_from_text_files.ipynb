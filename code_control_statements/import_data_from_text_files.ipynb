{
 "metadata": {
  "language_info": {
   "codemirror_mode": {
    "name": "ipython",
    "version": 3
   },
   "file_extension": ".py",
   "mimetype": "text/x-python",
   "name": "python",
   "nbconvert_exporter": "python",
   "pygments_lexer": "ipython3",
   "version": "3.8.5-final"
  },
  "orig_nbformat": 2,
  "kernelspec": {
   "name": "python_defaultSpec_1600336698933",
   "display_name": "Python 3.8.5 32-bit"
  }
 },
 "nbformat": 4,
 "nbformat_minor": 2,
 "cells": [
  {
   "source": [
    "# Import data from text files with Python\n",
    "\n",
    "In many applications of Python, you'll need to use data from an external source. For example, an Excel file with data tracking the various part ofa rocket or a text file to read the rocks that a moon rover sees. In this unit, we'll learn how to read data from a text file using a pre-made Python function.\n",
    "\n",
    "# Setting up data\n",
    "\n",
    "The first step to reading data from a file is to get a file and save it in a location that we can tell Python to acess later. First, find out where your Jupyter Notebook file is saved. This may be in a Python folder or even on your desktop. Next, you'll need to save this [text.txt](./assets/text.txt) file. It's important that you save this file in the same location as your JUpyter Notebook file. This will make is easy to tell Python where to find the data.\n",
    "\n",
    "# Getting data into Jupyter Notebook\n",
    "\n",
    "Now that we have our data saved, we must make a string in Python telling us that the file name is."
   ],
   "cell_type": "markdown",
   "metadata": {}
  },
  {
   "cell_type": "code",
   "execution_count": 1,
   "metadata": {},
   "outputs": [],
   "source": [
    "str_path = \"./assets/text.txt\"\n"
   ]
  },
  {
   "source": [
    "Next, we'll use the ```open()``` function to get the file in Python. We'll make a new variable called ```file_object``` to thold de data."
   ],
   "cell_type": "markdown",
   "metadata": {}
  },
  {
   "cell_type": "code",
   "execution_count": 9,
   "metadata": {
    "tags": []
   },
   "outputs": [],
   "source": [
    "file_object = open(str_path)"
   ]
  },
  {
   "source": [
    "Finally, we'll have Python read this ```file_object``` variable to give us a list of strings that we can explore with Python functions by suing the ```readlines()``` function. The ```readlines()``` function will take each line of the text file and make it an entry in a list. We'll store this list in another variable so we can print it out later. It's also good practice to close out the ```file_object``` when you're done with it. Do this by calling ```.close()```"
   ],
   "cell_type": "markdown",
   "metadata": {}
  },
  {
   "cell_type": "code",
   "execution_count": 10,
   "metadata": {},
   "outputs": [],
   "source": [
    "text_list = file_object.readlines()\n",
    "file_object.close()"
   ]
  },
  {
   "source": [
    "Finally, we can print the contents of the string we jsut read by iterating over the list:"
   ],
   "cell_type": "markdown",
   "metadata": {}
  },
  {
   "cell_type": "code",
   "execution_count": 12,
   "metadata": {
    "tags": []
   },
   "outputs": [
    {
     "output_type": "stream",
     "name": "stdout",
     "text": "First Astronaut on the moon\n\nNeil Armstrong\n"
    }
   ],
   "source": [
    "for line in text_list:\n",
    "    print(line)"
   ]
  },
  {
   "source": [
    "The example above teaches us how to read the full data into Python. We can also read a text file and only go through certain parts of. This is called parsing in programming. To parse through the text we just imported, let's go line by line and print every line out. Since every line is an element in our list we can get the first line by looking at the first element inthe list."
   ],
   "cell_type": "markdown",
   "metadata": {}
  },
  {
   "cell_type": "code",
   "execution_count": 14,
   "metadata": {
    "tags": []
   },
   "outputs": [
    {
     "output_type": "stream",
     "name": "stdout",
     "text": "First Astronaut on the moon\n\n"
    }
   ],
   "source": [
    "first_line = text_list[0]\n",
    "print(first_line)"
   ]
  },
  {
   "source": [
    "To read the second line form the text file, just get the seond item in the list."
   ],
   "cell_type": "markdown",
   "metadata": {}
  },
  {
   "cell_type": "code",
   "execution_count": 21,
   "metadata": {
    "tags": []
   },
   "outputs": [
    {
     "output_type": "stream",
     "name": "stdout",
     "text": "Neil Armstrong\nTrue\n"
    }
   ],
   "source": [
    "second_line = text_list[1]\n",
    "print(second_line)\n",
    "print(True if len(second_line.split()) > 1 else False)"
   ]
  }
 ]
}