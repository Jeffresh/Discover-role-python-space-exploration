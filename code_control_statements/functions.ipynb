{
 "metadata": {
  "language_info": {
   "codemirror_mode": {
    "name": "ipython",
    "version": 3
   },
   "file_extension": ".py",
   "mimetype": "text/x-python",
   "name": "python",
   "nbconvert_exporter": "python",
   "pygments_lexer": "ipython3",
   "version": "3.8.5-final"
  },
  "orig_nbformat": 2,
  "kernelspec": {
   "name": "python_defaultSpec_1600334969452",
   "display_name": "Python 3.8.5 32-bit"
  }
 },
 "nbformat": 4,
 "nbformat_minor": 2,
 "cells": [
  {
   "source": [
    "# Chunk code into functions for easy reusability and readability\n",
    "\n",
    "We can use functions to make our code easier to read adn easier to reuse. For example, if you wrote code to count the number of basalt rocks, it would probably be almsot identical to the code needed to count highland rocks. Instead of making an if statement to chekc the type of every single space rock, we can give a function to the space rocks and it can run the same code to check which type of rock it is each timre. Print() is an example of a function where the code to display output to the screen is the same, and the only difference is what you want to display. In this unit, you'll learn how to twrite your own function.\n",
    "\n",
    "To make a function in Python, we must first tell Python that it is a function. WE use the word \"def\" to define a function (tellPython that the following code is a funciton). You msut hen include a name for your funciton, parenthesis, and a colon.\n",
    "Finally, at the end of your function you must include the \"return\" key word. This tells Python the function is done and to return to the point where you called the function. Notice that all code within the function, including the return statement, should be idented.\n"
   ],
   "cell_type": "markdown",
   "metadata": {}
  },
  {
   "cell_type": "code",
   "execution_count": 5,
   "metadata": {},
   "outputs": [],
   "source": [
    "def name_of_function():\n",
    "    return "
   ]
  },
  {
   "source": [
    "Now let's play around with an example of making our own functions."
   ],
   "cell_type": "markdown",
   "metadata": {}
  },
  {
   "cell_type": "code",
   "execution_count": 4,
   "metadata": {
    "tags": []
   },
   "outputs": [
    {
     "output_type": "stream",
     "name": "stdout",
     "text": "5\n4\n3\n2\n1\nRocket will be launching soon!\n"
    }
   ],
   "source": [
    "def output_rocket_text():\n",
    "    count = 5\n",
    "    while count > 0:\n",
    "        print(count)\n",
    "        count -= 1\n",
    "    print(\"Rocket will be launching soon!\")\n",
    "\n",
    "output_rocket_text()"
   ]
  },
  {
   "source": [
    "As you can see in the code, we start by defining a function tha tprints the countdown and rocket launc announcement. Then we add code that will call the funciton. If we had multiple rocket launches, we could just call the output_rocket_text function instead of typing out the whole print line. This would make our code much cleaner and less redundant."
   ],
   "cell_type": "markdown",
   "metadata": {}
  }
 ]
}