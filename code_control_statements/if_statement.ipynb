{
 "metadata": {
  "language_info": {
   "codemirror_mode": {
    "name": "ipython",
    "version": 3
   },
   "file_extension": ".py",
   "mimetype": "text/x-python",
   "name": "python",
   "nbconvert_exporter": "python",
   "pygments_lexer": "ipython3",
   "version": "3.8.5-final"
  },
  "orig_nbformat": 2,
  "kernelspec": {
   "name": "python_defaultSpec_1600267106963",
   "display_name": "Python 3.8.5 32-bit"
  }
 },
 "nbformat": 4,
 "nbformat_minor": 2,
 "cells": [
  {
   "source": [
    "# Control the flow of code using contitional statements\n",
    "\n",
    "We use conditional statements to tell the comptuer what to do if some condition is met, or is not met: do this; if not, do something else.\n",
    "\n",
    "# If statements\n",
    "\n",
    "The most basic of conditional statements are the if statement. The if statement will check whether a condition is true or not true. If the condition is true, the if statement will run code inside it. If the condition is not true, it will skip over the conde inside it.\n",
    "\n",
    "Some real world examples are:\n",
    "\n",
    "- If the temperature is above freezing, the rocket will launch\n",
    "- If the oxygen levels drop, grab a space suit and oxygen tank\n",
    "\n",
    "In Python, the format for an if statement is:"
   ],
   "cell_type": "markdown",
   "metadata": {}
  },
  {
   "cell_type": "code",
   "execution_count": 17,
   "metadata": {
    "tags": []
   },
   "outputs": [
    {
     "output_type": "stream",
     "name": "stdout",
     "text": "do something\n"
    }
   ],
   "source": [
    "condition_to_test_is_true = True\n",
    "\n",
    "if condition_to_test_is_true:\n",
    "    print(\"do something\")"
   ]
  },
  {
   "source": [
    "It's crucial to include the colon at the end of the if statement and s tab on each subsequent line that should only happen if the condition evalueates to True.\n",
    "\n",
    "Below is an example of an if statement in Python. Firest we check if the count of basalt rocks is 0; if it is, both statements will print. If the count of rocks is not 0, the first print statement is skipped."
   ],
   "cell_type": "markdown",
   "metadata": {}
  },
  {
   "cell_type": "code",
   "execution_count": 20,
   "metadata": {
    "tags": []
   },
   "outputs": [
    {
     "output_type": "stream",
     "name": "stdout",
     "text": "We have found no basalt rocks\nDone checking basalt rocks\n"
    }
   ],
   "source": [
    "basalt = 0\n",
    "if basalt == 0:\n",
    "    print(\"We have found no basalt rocks\")\n",
    "print(\"Done checking basalt rocks\")"
   ]
  },
  {
   "cell_type": "code",
   "execution_count": 24,
   "metadata": {
    "tags": []
   },
   "outputs": [
    {
     "output_type": "stream",
     "name": "stdout",
     "text": "Done checking basalt rocks\n"
    }
   ],
   "source": [
    "basalt = 1\n",
    "if basalt == 0:\n",
    "    print(\"We have found no basalt rocks\")\n",
    "print(\"Done checking basalt rocks\")"
   ]
  },
  {
   "source": [
    "# Else statement\n",
    "\n",
    "Else statements extend the if conditional and allow coders to have more control of what happends depending on the conditional. Else statemetns must be written after an if statement. The program will laways execute what's inside the else statement if the condition in the if statement is not met."
   ],
   "cell_type": "markdown",
   "metadata": {}
  },
  {
   "cell_type": "code",
   "execution_count": 26,
   "metadata": {
    "tags": []
   },
   "outputs": [
    {
     "output_type": "stream",
     "name": "stdout",
     "text": "We have found no basalt rocks\nDone checking basalt rocks\n"
    }
   ],
   "source": [
    "basalt = 0\n",
    "if basalt == 0:\n",
    "    print(\"We have found no basalt rocks\")\n",
    "else:\n",
    "    print(\"We found some basalt rocks\")\n",
    "print(\"Done checking basalt rocks\")"
   ]
  },
  {
   "cell_type": "code",
   "execution_count": 28,
   "metadata": {
    "tags": []
   },
   "outputs": [
    {
     "output_type": "stream",
     "name": "stdout",
     "text": "We found some basalt rocks\nDone checking basalt rocks\n"
    }
   ],
   "source": [
    "basalt = 5\n",
    "if basalt == 0:\n",
    "    print(\"We have found no basalt rocks\")\n",
    "else:\n",
    "    print(\"We found some basalt rocks\")\n",
    "print(\"Done checking basalt rocks\")"
   ]
  },
  {
   "source": [
    "# ElseIf statement\n",
    "\n",
    "Python also supports else-if checks, for further control on actions based on data. The else-if statement is written after and if statement and before an else statement and you can have as many as you want in between. The else-if statement is just another if statement that will check if its conditions are met after the first if statement's conditions are not met."
   ],
   "cell_type": "markdown",
   "metadata": {}
  },
  {
   "cell_type": "code",
   "execution_count": 29,
   "metadata": {
    "tags": []
   },
   "outputs": [
    {
     "output_type": "stream",
     "name": "stdout",
     "text": "We found exactly 1 basalt rock\nDone checking basalt rocks\n"
    }
   ],
   "source": [
    "basalt = 1\n",
    "if basalt == 0:\n",
    "    print(\"We found no basalt rocks\")\n",
    "elif basalt == 1:\n",
    "    print(\"We found exactly 1 basalt rock\")\n",
    "else:\n",
    "    print(\"We foudn more than 1 basalt rock\")\n",
    "print(\"Done checking basalt rocks\")"
   ]
  }
 ]
}