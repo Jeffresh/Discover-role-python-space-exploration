{
 "metadata": {
  "language_info": {
   "codemirror_mode": {
    "name": "ipython",
    "version": 3
   },
   "file_extension": ".py",
   "mimetype": "text/x-python",
   "name": "python",
   "nbconvert_exporter": "python",
   "pygments_lexer": "ipython3",
   "version": "3.8.5-final"
  },
  "orig_nbformat": 2,
  "kernelspec": {
   "name": "python_defaultSpec_1600285305682",
   "display_name": "Python 3.8.5 32-bit"
  }
 },
 "nbformat": 4,
 "nbformat_minor": 2,
 "cells": [
  {
   "source": [
    "# Repeat code with while and for loops\n",
    "\n",
    "Iterations, in programmin, allow coders to repeat a set of instructions until a conditon is met. Think about this as being stuck in a loop that will continue until something tells you to break out.\n",
    "\n",
    "# While loop\n",
    "The while loop is one of two iteration types you'll learn about. In this loop you must specify a conditon first and the ninclude the code that you want the loop to iterate over. The loop will first check if the condition is True and if it is then it will look at the code inside the loop. When de condition becomes False, the code in the loop will be skipped over and the program will continue executing the rest of your code. If the condition in the loop is False to begin with, the code within the loop will never execute. During a single loop, the program will hen go through the loop and run the code. Once the code is finished, it will look back at the condition and see if it is still True. It's essential to change the variables in your loop to eventuallly have a condition say that it is False, or else an infinite loop will occur.\n",
    "\n",
    "As shown in the code below, to write a while loop you first must ype \"while\" and then the condition you'll check before every loop. End the line with a colon and be sure to ident the next line, which will be the actual loop. The code below will print out a countdown for a rocket. As you can see, the countdown variable in the condtiion section decreases in every loop until it reaches -1, in which case the condition is False and the loops ends."
   ],
   "cell_type": "markdown",
   "metadata": {}
  },
  {
   "cell_type": "code",
   "execution_count": 2,
   "metadata": {
    "tags": []
   },
   "outputs": [
    {
     "output_type": "stream",
     "name": "stdout",
     "text": "5\n4\n3\n2\n1\n0\nLift Off\n"
    }
   ],
   "source": [
    "countdown = 5\n",
    "\n",
    "while countdown >= 0:\n",
    "    print(countdown)\n",
    "    countdown = countdown - 1\n",
    "print(\"Lift Off\")"
   ]
  },
  {
   "source": [
    "In the example below, the condition is never met and the loop will contue forever (if we don't stop it). In this code, the developer forgot to decrease the timer variable, so the condition is always true."
   ],
   "cell_type": "markdown",
   "metadata": {}
  },
  {
   "source": [
    "# Trying to find life outside our planet\n",
    "# timer = 10\n",
    "# while  timer > 0:\n",
    "#     print(\"Hello, I am from Earth\")"
   ],
   "cell_type": "code",
   "metadata": {},
   "execution_count": 5,
   "outputs": []
  },
  {
   "source": [
    "This is an infinite loop and you must either wait for Python to terminate it or click the stop button at the top of the window. It´s best to avoid infinite loops - if that wasn´t already apparent."
   ],
   "cell_type": "markdown",
   "metadata": {}
  },
  {
   "source": [
    "# For loop\n",
    "\n",
    "For loops essentially perform the same task as while loops, they tend to focus on iterating a set number of times. For loops are great when you want to go through a list and look at every single element. In the code below, we make a list and then go through all the elements and print them out."
   ],
   "cell_type": "markdown",
   "metadata": {}
  },
  {
   "cell_type": "code",
   "execution_count": 6,
   "metadata": {
    "tags": []
   },
   "outputs": [
    {
     "output_type": "stream",
     "name": "stdout",
     "text": "Mars\nSaturn\nJupiter\n"
    }
   ],
   "source": [
    "planets = \"Mars\", \"Saturn\", \"Jupiter\"\n",
    "\n",
    "for planet in planets:\n",
    "    print(planet)"
   ]
  }
 ]
}