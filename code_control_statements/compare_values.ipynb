{
 "metadata": {
  "language_info": {
   "codemirror_mode": {
    "name": "ipython",
    "version": 3
   },
   "file_extension": ".py",
   "mimetype": "text/x-python",
   "name": "python",
   "nbconvert_exporter": "python",
   "pygments_lexer": "ipython3",
   "version": "3.8.5-final"
  },
  "orig_nbformat": 2,
  "kernelspec": {
   "name": "python_defaultSpec_1600265114815",
   "display_name": "Python 3.8.5 32-bit"
  }
 },
 "nbformat": 4,
 "nbformat_minor": 2,
 "cells": [
  {
   "source": [
    "# Compare values of data with Python\n",
    "\n",
    "In the real world, we'll sometiems only perfom an action if a ceratain condition is met. This is the gist of conditionals in coding. For example, we may want to launch a rocket only if the temperature is above 32 degrees. Let's start by learning about the different conditions we can check to help us decide whether to perform an action or not.\n",
    "\n",
    "# Conditions\n",
    "\n",
    "Conditions are what need to be met before we change tasks. We can find out if a condition is met by comparing two values. To do this we use something called logical operators. Logical operators will return either True, if the statement is true, or False, if the statement is false. Remember: True and False values are called booleans.\n",
    "\n",
    "For example, if our condition is to check wheter the temperature is above freezing (to see if a rocket launch would be delayed)our condition would be ```temperature > 32 ```. This would give us True if the temperature is above freezing and False if the temperature is at or below freezing.\n",
    "\n",
    "Here are some common logical operators:\n",
    "\n",
    "- Equals: ``` x == y ```\n",
    "- Not Equals: ``` x != y ```\n",
    "- Less than: ``` x < y ```\n",
    "- Less than or equal to: ``` x <= y ```\n",
    "- Greater than: ``` x > y ```\n",
    "- Greater than or equal: ``` x >=y ```\n",
    "\n",
    "Try to play around with some logical operators in Jupyter Notebooks. Notice how the single equal sign and double equal signs have different meanings. The single equal assigns a value to a variable, while the double equals compares values. This difference is a common gotcha beginner programmer can face.\n"
   ],
   "cell_type": "markdown",
   "metadata": {}
  },
  {
   "cell_type": "code",
   "execution_count": 2,
   "metadata": {
    "tags": []
   },
   "outputs": [
    {
     "output_type": "stream",
     "name": "stdout",
     "text": "True\nFalse\n"
    }
   ],
   "source": [
    "temp = 50\n",
    "print(temp >= 32)\n",
    "print(temp < 32)"
   ]
  },
  {
   "source": [
    "You can also use these operators on other variable types."
   ],
   "cell_type": "markdown",
   "metadata": {}
  },
  {
   "cell_type": "code",
   "execution_count": 3,
   "metadata": {
    "tags": []
   },
   "outputs": [
    {
     "output_type": "stream",
     "name": "stdout",
     "text": "False\nTrue\n"
    }
   ],
   "source": [
    "rock = \"basalt\"\n",
    "print(\"highland\" == rock)\n",
    "print(\"basalt\" == rock)"
   ]
  },
  {
   "source": [
    "For reasons that are byond the scope of this module, sometimes when comparing variables, you msut use commands like \"in\". This just checks whether a word is insde the variable."
   ],
   "cell_type": "markdown",
   "metadata": {}
  },
  {
   "cell_type": "code",
   "execution_count": 4,
   "metadata": {
    "tags": []
   },
   "outputs": [
    {
     "output_type": "stream",
     "name": "stdout",
     "text": "False\nTrue\n"
    }
   ],
   "source": [
    "rock = \"basaltrock\"\n",
    "print(\"highland\" in rock)\n",
    "print(\"basalt\" in rock)"
   ]
  },
  {
   "source": [
    "Now we known how to write the conditions to determine whether we want an action to execute or not, we can begin to specify what action we want to occur."
   ],
   "cell_type": "markdown",
   "metadata": {}
  }
 ]
}