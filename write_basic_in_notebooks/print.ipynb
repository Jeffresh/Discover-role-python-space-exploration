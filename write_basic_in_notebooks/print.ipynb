{
 "metadata": {
  "language_info": {
   "codemirror_mode": {
    "name": "ipython",
    "version": 3
   },
   "file_extension": ".py",
   "mimetype": "text/x-python",
   "name": "python",
   "nbconvert_exporter": "python",
   "pygments_lexer": "ipython3",
   "version": "3.8.5-final"
  },
  "orig_nbformat": 2,
  "kernelspec": {
   "name": "python_defaultSpec_1600246658645",
   "display_name": "Python 3.8.5 32-bit"
  }
 },
 "nbformat": 4,
 "nbformat_minor": 2,
 "cells": [
  {
   "source": [
    "# View reulsts of variables and expressions in Python Notebooks\n",
    "\n",
    "Now that we've created some variables and given them values, we can learn how to view the values beyond running a notebook cell. We'll use a function called print(). Notebooks are usefull because each will output the value of the final command without the need to do use the print() function. However, it might be useful to print values or messages between larger code blocks, for debuggin, loggin, or informational purposes. Without the print() function, the cell will print only the last value:"
   ],
   "cell_type": "markdown",
   "metadata": {}
  },
  {
   "cell_type": "code",
   "execution_count": 2,
   "metadata": {},
   "outputs": [
    {
     "output_type": "execute_result",
     "data": {
      "text/plain": "8"
     },
     "metadata": {},
     "execution_count": 2
    }
   ],
   "source": [
    "2 + 2\n",
    "5 + 3"
   ]
  },
  {
   "source": [
    "The print() function, like the functions we called earlier when using strings, is code we can use that has been written by others. The print() function will make the computer write the valeus within the values you pass in as a parameter."
   ],
   "cell_type": "markdown",
   "metadata": {}
  },
  {
   "cell_type": "code",
   "execution_count": 4,
   "metadata": {
    "tags": []
   },
   "outputs": [
    {
     "output_type": "stream",
     "name": "stdout",
     "text": "6\nHello world\n"
    }
   ],
   "source": [
    "print(6)\n",
    "print(\"Hello world\")"
   ]
  },
  {
   "source": [
    "Along with values, we can use the code below to print the value of a variable:"
   ],
   "cell_type": "markdown",
   "metadata": {}
  },
  {
   "cell_type": "code",
   "execution_count": 6,
   "metadata": {
    "tags": []
   },
   "outputs": [
    {
     "output_type": "stream",
     "name": "stdout",
     "text": "15\n"
    }
   ],
   "source": [
    "num_rocks = 15\n",
    "print(num_rocks)"
   ]
  },
  {
   "source": [
    "We can combine variables and string by putting a comma between them:"
   ],
   "cell_type": "markdown",
   "metadata": {}
  },
  {
   "cell_type": "code",
   "execution_count": 8,
   "metadata": {
    "tags": []
   },
   "outputs": [
    {
     "output_type": "stream",
     "name": "stdout",
     "text": "The number of Basalt rocks found: 4\n"
    }
   ],
   "source": [
    "num_basalt = 4\n",
    "print(\"The number of Basalt rocks found:\", num_basalt)"
   ]
  },
  {
   "cell_type": "code",
   "execution_count": 10,
   "metadata": {
    "tags": []
   },
   "outputs": [
    {
     "output_type": "stream",
     "name": "stdout",
     "text": "On February 26 number of rocks found: 15\n"
    }
   ],
   "source": [
    "date = \"February 26\"\n",
    "num_rocks = 15\n",
    "print(\"On\", date, \"number of rocks found:\", num_rocks)"
   ]
  },
  {
   "source": [
    "The print function is very helpful, becasue the people using our programs won't always be able see our code or know how to read it. The print fucntion allows us to show them only the values we want them to see"
   ],
   "cell_type": "markdown",
   "metadata": {}
  }
 ]
}