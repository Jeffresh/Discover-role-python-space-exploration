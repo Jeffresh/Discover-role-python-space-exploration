{
 "metadata": {
  "language_info": {
   "codemirror_mode": {
    "name": "ipython",
    "version": 3
   },
   "file_extension": ".py",
   "mimetype": "text/x-python",
   "name": "python",
   "nbconvert_exporter": "python",
   "pygments_lexer": "ipython3",
   "version": "3.8.5-final"
  },
  "orig_nbformat": 2,
  "kernelspec": {
   "name": "python_defaultSpec_1600242115554",
   "display_name": "Python 3.8.5 32-bit"
  }
 },
 "nbformat": 4,
 "nbformat_minor": 2,
 "cells": [
  {
   "source": [
    "# Create variables in PYthon Notebooks for future data analysis\n",
    "\n",
    "In this unit, you'll learn about variables in Python. Variables are containers that you ca n store data in and use at a different time.\n",
    "\n",
    "There are four main types of data variables that you'll encounter throughtout this content:\n",
    "\n",
    "- Integers(int): These are whole numbers like 1, 4, 10, -5.\n",
    "- Floats: These are decimal numbers like 0.4, 1.6, 17.4, -3.5\n",
    "- Strings: These are chains of characters that are surrounded by single or double quotes like \"hi\", \"NASA\", \"Space Rocks\", \"54321\"\n",
    "- Boolean: Represents either True or False\n",
    "\n",
    "Try copying the code below and clicking the run button to create some of your own variables:\n"
   ],
   "cell_type": "markdown",
   "metadata": {}
  },
  {
   "cell_type": "code",
   "execution_count": 5,
   "metadata": {},
   "outputs": [],
   "source": [
    "# Integer Variable\n",
    "number_of_rocks = 5\n",
    "\n",
    "# Float Variable\n",
    "temp_in_space = -457.87\n",
    "\n",
    "# String Variable\n",
    "rover_name = \"Artemis Rover\"\n",
    "\n",
    "# Boolean Variable\n",
    "rocket_on = False\n"
   ]
  },
  {
   "source": [
    "When you have crated your variables, you can view the values by writing the variable's name and clicking the run button."
   ],
   "cell_type": "markdown",
   "metadata": {}
  },
  {
   "cell_type": "code",
   "execution_count": 8,
   "metadata": {},
   "outputs": [
    {
     "output_type": "execute_result",
     "data": {
      "text/plain": "'Artemis Rover'"
     },
     "metadata": {},
     "execution_count": 8
    }
   ],
   "source": [
    "rover_name"
   ]
  },
  {
   "source": [
    "A unique aspect of Python is that you don't need to tell the program what type of variable you're making. For example, in some langauges, if you wnat to make an integer, you must first let the compute know that you're about to create an integer. In Java, for example, you might write: int intVar = 0;\n",
    "\n",
    "Later on in our program, we'll be using variables to store the number of a certain type of rock we find. One of the main types of moon rock is called basalt. We can make a variable named basalt_rock_count and give it a value of 0 by using the following code:"
   ],
   "cell_type": "markdown",
   "metadata": {}
  },
  {
   "cell_type": "code",
   "execution_count": 10,
   "metadata": {},
   "outputs": [],
   "source": [
    "basalt_rock_count = 0"
   ]
  },
  {
   "source": [
    "We can also change the value of the variable:"
   ],
   "cell_type": "markdown",
   "metadata": {}
  },
  {
   "cell_type": "code",
   "execution_count": 12,
   "metadata": {},
   "outputs": [
    {
     "output_type": "execute_result",
     "data": {
      "text/plain": "4"
     },
     "metadata": {},
     "execution_count": 12
    }
   ],
   "source": [
    "basalt_rock_count = 3\n",
    "basalt_rock_count = basalt_rock_count + 1\n",
    "basalt_rock_count"
   ]
  },
  {
   "source": [
    "This can be useful if we want to inform the computer that we've found three rocks so far and we've just found another. An easy way to perform and operation on a variable is to use the operation you want to apply and then add an equal sign after it. This will perform the action and set the variable to the new value. For example:"
   ],
   "cell_type": "markdown",
   "metadata": {}
  },
  {
   "cell_type": "code",
   "execution_count": 14,
   "metadata": {},
   "outputs": [],
   "source": [
    "basalt_rock_count = 5\n",
    "basalt_rock_count += 3 # Add 3\n",
    "basalt_rock_count -= 2 # Remove 2"
   ]
  },
  {
   "source": [
    "Finally, you can use all of the arithmetic examples we've used so far with variables."
   ],
   "cell_type": "markdown",
   "metadata": {}
  },
  {
   "cell_type": "code",
   "execution_count": 16,
   "metadata": {},
   "outputs": [
    {
     "output_type": "execute_result",
     "data": {
      "text/plain": "228621"
     },
     "metadata": {},
     "execution_count": 16
    }
   ],
   "source": [
    "# Find out how many miles until rocket reaches moon\n",
    "\n",
    "distance_to_moon = 238855\n",
    "distance_traveled = 10234\n",
    "distance_to_moon - distance_traveled"
   ]
  },
  {
   "source": [
    "Although you can give a variable any name, it's recommended that you choose something that represents the data it holds. For example, you could have written the above code as:"
   ],
   "cell_type": "markdown",
   "metadata": {}
  },
  {
   "cell_type": "code",
   "execution_count": 18,
   "metadata": {},
   "outputs": [
    {
     "output_type": "execute_result",
     "data": {
      "text/plain": "228621"
     },
     "metadata": {},
     "execution_count": 18
    }
   ],
   "source": [
    "# Find out how many miles until rocket reaches moo\n",
    "\n",
    "a = 238855\n",
    "b = 10234\n",
    "a - b "
   ]
  },
  {
   "source": [
    "This code is likely to be vonfusing because a and b could represent numbers, rather than the values intended. Using distance_to_moon and distance_traveled is clearer"
   ],
   "cell_type": "markdown",
   "metadata": {}
  }
 ]
}