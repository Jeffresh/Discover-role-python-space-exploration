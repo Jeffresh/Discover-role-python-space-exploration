{
 "metadata": {
  "language_info": {
   "codemirror_mode": {
    "name": "ipython",
    "version": 3
   },
   "file_extension": ".py",
   "mimetype": "text/x-python",
   "name": "python",
   "nbconvert_exporter": "python",
   "pygments_lexer": "ipython3",
   "version": "3.8.5-final"
  },
  "orig_nbformat": 2,
  "kernelspec": {
   "name": "python_defaultSpec_1600203904110",
   "display_name": "Python 3.8.5 32-bit"
  }
 },
 "nbformat": 4,
 "nbformat_minor": 2,
 "cells": [
  {
   "source": [
    "# Code basic airithmetic in Python for future data analysis\n",
    "\n",
    "Math is used frequently in coputer science and the conpcets you'll learn here will be great tools to add to your coding arsenal. Python as features that allow you to perform amany different mathematical computations."
   ],
   "cell_type": "markdown",
   "metadata": {}
  },
  {
   "source": [
    "# Simple calculations\n",
    "\n",
    "As with a calculator, you can use the operators +, -, *, and / in Python to add, substract, multiply and divide numbers.\n",
    "\n",
    "For example, write the following comment and code in a cell and then click the run button to see the output.\n"
   ],
   "cell_type": "markdown",
   "metadata": {}
  },
  {
   "cell_type": "code",
   "execution_count": 1,
   "metadata": {},
   "outputs": [
    {
     "output_type": "execute_result",
     "data": {
      "text/plain": "9"
     },
     "metadata": {},
     "execution_count": 1
    }
   ],
   "source": [
    "# Combining two piles of space rocks\n",
    "3 + 6"
   ]
  },
  {
   "cell_type": "code",
   "execution_count": 2,
   "metadata": {},
   "outputs": [
    {
     "output_type": "execute_result",
     "data": {
      "text/plain": "12"
     },
     "metadata": {},
     "execution_count": 2
    }
   ],
   "source": [
    "# Lose three units of oxygen\n",
    "15 - 3"
   ]
  },
  {
   "cell_type": "code",
   "execution_count": 3,
   "metadata": {},
   "outputs": [
    {
     "output_type": "execute_result",
     "data": {
      "text/plain": "34000"
     },
     "metadata": {},
     "execution_count": 3
    }
   ],
   "source": [
    "# Finding how far a rocket has gone by multiplying speed \n",
    "17000 * 2"
   ]
  },
  {
   "cell_type": "code",
   "execution_count": 4,
   "metadata": {},
   "outputs": [
    {
     "output_type": "execute_result",
     "data": {
      "text/plain": "25.0"
     },
     "metadata": {},
     "execution_count": 4
    }
   ],
   "source": [
    "# Number of rocks per pile if we separate 100 space rocks in 4 piles\n",
    "\n",
    "100 / 4"
   ]
  },
  {
   "source": [
    "Furthermore, just like on calculators, the order of operations are in play when coding with Python. You can use parentheses to combat this issue.\n",
    "\n",
    "Try copying the code below into a Jupyter Notebook cell and running it. Notice how you get two different numbers.\n"
   ],
   "cell_type": "markdown",
   "metadata": {}
  },
  {
   "cell_type": "code",
   "execution_count": 5,
   "metadata": {},
   "outputs": [
    {
     "output_type": "execute_result",
     "data": {
      "text/plain": "17"
     },
     "metadata": {},
     "execution_count": 5
    }
   ],
   "source": [
    "2 + 5 * 3"
   ]
  },
  {
   "cell_type": "code",
   "execution_count": 6,
   "metadata": {},
   "outputs": [
    {
     "output_type": "execute_result",
     "data": {
      "text/plain": "21"
     },
     "metadata": {},
     "execution_count": 6
    }
   ],
   "source": [
    "(2 + 5) * 3"
   ]
  },
  {
   "source": [
    "You get two different numberes because the order of operations compuest multiplication and division before addition and subtraction.\n"
   ],
   "cell_type": "markdown",
   "metadata": {}
  },
  {
   "source": [
    "# More advances math\n",
    "\n",
    "There are also more advanced calculations that Python can compute listed below:\n",
    "\n",
    "- To calculate a remainder, use modulus (%)"
   ],
   "cell_type": "markdown",
   "metadata": {}
  },
  {
   "cell_type": "code",
   "execution_count": 7,
   "metadata": {},
   "outputs": [
    {
     "output_type": "execute_result",
     "data": {
      "text/plain": "1"
     },
     "metadata": {},
     "execution_count": 7
    }
   ],
   "source": [
    "10 % 3"
   ]
  },
  {
   "source": [
    "- To calculate exponents, use **"
   ],
   "cell_type": "markdown",
   "metadata": {}
  },
  {
   "source": [
    "# The moon is just under 10^5.35 miles away\n",
    "10 % 3"
   ],
   "cell_type": "code",
   "metadata": {},
   "execution_count": 10,
   "outputs": [
    {
     "output_type": "execute_result",
     "data": {
      "text/plain": "1"
     },
     "metadata": {},
     "execution_count": 10
    }
   ]
  },
  {
   "source": [
    "- To calculate exponents, use **"
   ],
   "cell_type": "markdown",
   "metadata": {}
  },
  {
   "cell_type": "code",
   "execution_count": 13,
   "metadata": {},
   "outputs": [
    {
     "output_type": "execute_result",
     "data": {
      "text/plain": "234422.88153199226"
     },
     "metadata": {},
     "execution_count": 13
    }
   ],
   "source": [
    "# The moon is just under 10^5.37 miles away\n",
    "10 ** 5.37"
   ]
  },
  {
   "source": [
    "- To remove the remainder when diviving, use //"
   ],
   "cell_type": "markdown",
   "metadata": {}
  },
  {
   "cell_type": "code",
   "execution_count": 17,
   "metadata": {},
   "outputs": [
    {
     "output_type": "execute_result",
     "data": {
      "text/plain": "2"
     },
     "metadata": {},
     "execution_count": 17
    }
   ],
   "source": [
    "# How many even piles of 2 we can make with 5 rocks\n",
    "\n",
    "5 // 2"
   ]
  }
 ]
}