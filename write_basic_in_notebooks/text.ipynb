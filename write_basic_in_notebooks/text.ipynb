{
 "metadata": {
  "language_info": {
   "codemirror_mode": {
    "name": "ipython",
    "version": 3
   },
   "file_extension": ".py",
   "mimetype": "text/x-python",
   "name": "python",
   "nbconvert_exporter": "python",
   "pygments_lexer": "ipython3",
   "version": "3.8.5-final"
  },
  "orig_nbformat": 2,
  "kernelspec": {
   "name": "python_defaultSpec_1600243924730",
   "display_name": "Python 3.8.5 32-bit"
  }
 },
 "nbformat": 4,
 "nbformat_minor": 2,
 "cells": [
  {
   "source": [
    "# Create and amnipulate text in Python code\n",
    "\n",
    "Strings are one of the most unusual of all variables, because they can take on almost any key from your keyboard. Python also has much pre-made code (called functions) that you can call to manipulate your strings in various ways.\n",
    "\n",
    "Let's start by making a string variable in your notebook. Copy the following line of code and click the run button:\n"
   ],
   "cell_type": "markdown",
   "metadata": {}
  },
  {
   "cell_type": "code",
   "execution_count": 2,
   "metadata": {},
   "outputs": [],
   "source": [
    "astronaut = \"Remy Morris\""
   ]
  },
  {
   "source": [
    "Say the we want to have this astronau'ts name in all caps to print on their space suit. Instead of having to make a new variable, we ca use the .upper() funtion to print he name in capital letters. To call a function, type the variable followed by a period, the name of the function, and then parenthesis. Calling this upper function won't change the astronaut varaible, since we weant to preserve their name with the correct capitalization. You must set a new variable or current variable equal to the function that you've called."
   ],
   "cell_type": "markdown",
   "metadata": {}
  },
  {
   "cell_type": "code",
   "execution_count": 4,
   "metadata": {},
   "outputs": [
    {
     "output_type": "execute_result",
     "data": {
      "text/plain": "'REMY MORRIS'"
     },
     "metadata": {},
     "execution_count": 4
    }
   ],
   "source": [
    "upper_case = astronaut.upper()\n",
    "upper_case"
   ]
  },
  {
   "source": [
    "In a similar way, we can call astronautl.lower() to make the string lowe case."
   ],
   "cell_type": "markdown",
   "metadata": {}
  },
  {
   "cell_type": "code",
   "execution_count": 6,
   "metadata": {},
   "outputs": [
    {
     "output_type": "execute_result",
     "data": {
      "text/plain": "'remy morris'"
     },
     "metadata": {},
     "execution_count": 6
    }
   ],
   "source": [
    "lower_case = astronaut.lower()\n",
    "lower_case"
   ]
  },
  {
   "source": [
    "Another cool string function we can use is called .capitalize(). This function will make the first letter of a sentence capitalized and everythin else lowe-cased. Trry copying the new variable below and calling the capitalize function."
   ],
   "cell_type": "markdown",
   "metadata": {}
  },
  {
   "cell_type": "code",
   "execution_count": 8,
   "metadata": {},
   "outputs": [
    {
     "output_type": "execute_result",
     "data": {
      "text/plain": "'Rocket is a launch!'"
     },
     "metadata": {},
     "execution_count": 8
    }
   ],
   "source": [
    "rocket_output = \"rOckEt iS A laUnch!\"\n",
    "rocket_output.capitalize()"
   ]
  },
  {
   "source": [
    "Another neat thing you can do with strings in Python is concatenate or add them together. If you have two string variables, you can add them together by sugin the + sign."
   ],
   "cell_type": "markdown",
   "metadata": {}
  },
  {
   "cell_type": "code",
   "execution_count": 10,
   "metadata": {},
   "outputs": [
    {
     "output_type": "execute_result",
     "data": {
      "text/plain": "'Cape Canaveral, Florida'"
     },
     "metadata": {},
     "execution_count": 10
    }
   ],
   "source": [
    "launch_location_city = \"Cape Canaveral, \"\n",
    "launch_location_state = \"Florida\"\n",
    "\n",
    "launch_location_city + launch_location_state\n"
   ]
  },
  {
   "source": [
    "Finally, you can use the * sign to repeat a string multiple times."
   ],
   "cell_type": "markdown",
   "metadata": {}
  },
  {
   "cell_type": "code",
   "execution_count": 11,
   "metadata": {},
   "outputs": [
    {
     "output_type": "execute_result",
     "data": {
      "text/plain": "'beep beep beep beep beep beep '"
     },
     "metadata": {},
     "execution_count": 11
    }
   ],
   "source": [
    "artemis_rover_sounds = \"beep beep \"\n",
    "artemis_rover_sounds * 3"
   ]
  }
 ]
}