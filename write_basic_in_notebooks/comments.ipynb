{
 "metadata": {
  "language_info": {
   "codemirror_mode": {
    "name": "ipython",
    "version": 3
   },
   "file_extension": ".py",
   "mimetype": "text/x-python",
   "name": "python",
   "nbconvert_exporter": "python",
   "pygments_lexer": "ipython3",
   "version": "3.8.5-final"
  },
  "orig_nbformat": 2,
  "kernelspec": {
   "name": "python_defaultSpec_1600097588345",
   "display_name": "Python 3.8.5 32-bit"
  }
 },
 "nbformat": 4,
 "nbformat_minor": 2,
 "cells": [
  {
   "source": [
    "# Add comments to Python Notebooks to add clarity to your code\n",
    "\n",
    "Over the course of this module, we'll be using comments in our code. Learning how to use comments efficiently will greatly improve the readability of your code and help you learn programming tipcis faster.\n",
    "\n",
    "# What are comments?\n",
    "\n",
    "In programming, comments are words that the computer will not read when running the code. Their sole purpose is to help developers who are reading and writing code. Comments are great for explaining complex code to others, helping you remember what a certain part of your code does, and reminding you of what needs o be added to your code.\n",
    "\n",
    "# How to use comments \n",
    "In Python, comments are as simple as includinga # before the comment that you would like to add."
   ],
   "cell_type": "markdown",
   "metadata": {}
  },
  {
   "cell_type": "code",
   "execution_count": 1,
   "metadata": {},
   "outputs": [],
   "source": [
    "# This is a comment"
   ]
  },
  {
   "source": [
    "As noted previously, commnets are not run by th ecomputer. If you look at the code below, 2 + 2 is commented out so the computer will only recognize and compute 2 + 3. Try to copy this code into a cell and click the play button."
   ],
   "cell_type": "markdown",
   "metadata": {}
  },
  {
   "source": [
    "# 2 + 2\n",
    "2 + 3"
   ],
   "cell_type": "code",
   "metadata": {},
   "execution_count": 10,
   "outputs": [
    {
     "output_type": "execute_result",
     "data": {
      "text/plain": "5"
     },
     "metadata": {},
     "execution_count": 10
    }
   ]
  },
  {
   "source": [
    "### Another great use of comments is to add TODOs to let you know what still needs to be done. In this example, the comment is reminding a develper to finish a piece of code at a later time."
   ],
   "cell_type": "markdown",
   "metadata": {}
  },
  {
   "cell_type": "code",
   "execution_count": null,
   "metadata": {},
   "outputs": [],
   "source": [
    "# TODO Finish analyze space rock function\n",
    "def analyzeSpaceRock():\n",
    "    pass"
   ]
  },
  {
   "source": [
    "# Block comments\n",
    "\n",
    "Block comments are many lines of comments strung together. They can be useful to help explain code to a user who might be unfamiliar with the concepts you're using or to describe what an entire program does."
   ],
   "cell_type": "markdown",
   "metadata": {}
  },
  {
   "cell_type": "code",
   "execution_count": null,
   "metadata": {},
   "outputs": [],
   "source": [
    "# This code is a function that will take in\n",
    "# text and then see what type of spce rock it is\n",
    "# If the rock matches a certain type of rock\n",
    "# it will increase the count of that rock type by 1.\n",
    "# Basalt is a common type of rock found on the moon.\n",
    "\n",
    "def countRocks(rockText):\n",
    "    if(rockText == \"Basalt\"):\n",
    "        basalt = basalt + 1\n",
    "        \n",
    "    return basalt"
   ]
  },
  {
   "source": [
    "# Inline comments\n",
    "\n",
    "Inline commnets are written on the same line as written code. Use them sparingly because they can add clutter to your code. They're good at explaining a tricky line of code."
   ],
   "cell_type": "markdown",
   "metadata": {}
  },
  {
   "cell_type": "code",
   "execution_count": 9,
   "metadata": {},
   "outputs": [],
   "source": [
    "rocketSpeed = 17000 # rocket speed needd to reach orbit"
   ]
  }
 ]
}