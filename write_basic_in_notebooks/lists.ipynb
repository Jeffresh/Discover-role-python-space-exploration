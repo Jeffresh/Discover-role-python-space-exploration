{
 "metadata": {
  "language_info": {
   "codemirror_mode": {
    "name": "ipython",
    "version": 3
   },
   "file_extension": ".py",
   "mimetype": "text/x-python",
   "name": "python",
   "nbconvert_exporter": "python",
   "pygments_lexer": "ipython3",
   "version": "3.8.5-final"
  },
  "orig_nbformat": 2,
  "kernelspec": {
   "name": "python_defaultSpec_1600244782160",
   "display_name": "Python 3.8.5 32-bit"
  }
 },
 "nbformat": 4,
 "nbformat_minor": 2,
 "cells": [
  {
   "source": [
    "# Create lists of data in Python code\n",
    "\n",
    "Lists are ways to store a lot of data in Python and are similar to variables. Thy are a collection of values stored in the form of a list. Lists are useful in Python because often you'll need more than one piece of data. Lists play a huge role in data science, because the goal of data science is to take large amounts of related data and analyze it. That's why popular data science Python packages suc as Pandas and NumPy have additional data structures such as dataframes and arrays, which are essentially lists with additional features.\n"
   ],
   "cell_type": "markdown",
   "metadata": {}
  },
  {
   "source": [
    "# How to make a list\n",
    "\n",
    "Defining lists in Python is similar to creating variables. Star by making a name for your list and then set it wqual to a value. However, lists can hold multiple values. For example:"
   ],
   "cell_type": "markdown",
   "metadata": {}
  },
  {
   "cell_type": "code",
   "execution_count": 4,
   "metadata": {},
   "outputs": [
    {
     "output_type": "execute_result",
     "data": {
      "text/plain": "['basalt', 'highland', 'breccia']"
     },
     "metadata": {},
     "execution_count": 4
    }
   ],
   "source": [
    "# Create a list of common moon rocks\n",
    "rock_types = [\"basalt\", \"highland\", \"breccia\"]\n",
    "rock_types"
   ]
  },
  {
   "source": [
    "As you can see, you must include square brackets and then include the values you want separated by commas. Lists can have values that come in all forms(int, float, string) and can even mix and match different types. For examples:"
   ],
   "cell_type": "markdown",
   "metadata": {}
  },
  {
   "cell_type": "code",
   "execution_count": 6,
   "metadata": {},
   "outputs": [
    {
     "output_type": "execute_result",
     "data": {
      "text/plain": "['basalt', 1, 'highland', 2.5, 'breaccia', 5]"
     },
     "metadata": {},
     "execution_count": 6
    }
   ],
   "source": [
    "rock_type_and_count = [\"basalt\", 1, \"highland\", 2.5, \"breaccia\", 5]\n",
    "rock_type_and_count"
   ]
  },
  {
   "source": [
    "# List Functions\n",
    "\n",
    "There are many pre-made functions include in Python, which we can use to modify a list.\n",
    "\n",
    "For example, we can add items to a list by calling the .append() function followed by the data that we want to add in parentheses. Doing this will add an item to the end of a list. Let's add a rock type to our original list."
   ],
   "cell_type": "markdown",
   "metadata": {}
  },
  {
   "cell_type": "code",
   "execution_count": 11,
   "metadata": {},
   "outputs": [
    {
     "output_type": "execute_result",
     "data": {
      "text/plain": "['basalt', 'highland', 'breccia', 'soil', 'soil', 'soil']"
     },
     "metadata": {},
     "execution_count": 11
    }
   ],
   "source": [
    "rock_types.append(\"soil\")\n",
    "rock_types"
   ]
  },
  {
   "source": [
    "We can also delete items from the end of a list by calling the .pop() function. We'll now delte soil from the rock types list."
   ],
   "cell_type": "markdown",
   "metadata": {}
  },
  {
   "cell_type": "code",
   "execution_count": 13,
   "metadata": {},
   "outputs": [
    {
     "output_type": "execute_result",
     "data": {
      "text/plain": "['basalt', 'highland', 'breccia', 'soil']"
     },
     "metadata": {},
     "execution_count": 13
    }
   ],
   "source": [
    "rock_types.pop()\n",
    "rock_types"
   ]
  },
  {
   "source": [
    "Finally, we can look at and change the value from anywhere within the list. To see what value is at a certain pointin the list, use square brackets after the list name to look at the specific value. Everything in Python is zero-indexed, meaning that counting begins at 0, not 1. So if we look at the evalue in the first position in a list, we would use: ```list_name[0]```\n",
    "\n",
    "In our rock type example, use the following code to look at the value in the second position in the list:"
   ],
   "cell_type": "markdown",
   "metadata": {}
  },
  {
   "cell_type": "code",
   "execution_count": 15,
   "metadata": {},
   "outputs": [
    {
     "output_type": "execute_result",
     "data": {
      "text/plain": "'highland'"
     },
     "metadata": {},
     "execution_count": 15
    }
   ],
   "source": [
    "rock_types[1]"
   ]
  },
  {
   "source": [
    "We can also change a specific value in the list at a specific point by coding:\n",
    "```list_name[position in list to change value] = new_value```"
   ],
   "cell_type": "markdown",
   "metadata": {}
  },
  {
   "cell_type": "code",
   "execution_count": 17,
   "metadata": {},
   "outputs": [
    {
     "output_type": "execute_result",
     "data": {
      "text/plain": "['basalt', 'highland', 'soil', 'soil']"
     },
     "metadata": {},
     "execution_count": 17
    }
   ],
   "source": [
    "rock_types[2] = \"soil\"\n",
    "rock_types"
   ]
  },
  {
   "source": [
    "Doing this will change the current value at this position in the list, so the previous value will be gone."
   ],
   "cell_type": "markdown",
   "metadata": {}
  }
 ]
}