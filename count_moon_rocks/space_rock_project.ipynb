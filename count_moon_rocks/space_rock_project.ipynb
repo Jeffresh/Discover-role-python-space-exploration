{
 "metadata": {
  "language_info": {
   "codemirror_mode": {
    "name": "ipython",
    "version": 3
   },
   "file_extension": ".py",
   "mimetype": "text/x-python",
   "name": "python",
   "nbconvert_exporter": "python",
   "pygments_lexer": "ipython3",
   "version": "3.8.5-final"
  },
  "orig_nbformat": 2,
  "kernelspec": {
   "name": "python_defaultSpec_1600368521402",
   "display_name": "Python 3.8.5 32-bit"
  }
 },
 "nbformat": 4,
 "nbformat_minor": 2,
 "cells": [
  {
   "source": [
    "# Create a Jupyter Notebook to explore data about Moon rocks\n",
    "\n",
    "To start our program, we'll want to let the user know that the program is beginning, by suing the print command to output a string of text."
   ],
   "cell_type": "markdown",
   "metadata": {}
  },
  {
   "cell_type": "code",
   "execution_count": 14,
   "metadata": {
    "tags": []
   },
   "outputs": [
    {
     "output_type": "stream",
     "name": "stdout",
     "text": "Artemis Rover Rock Scanner Starting\n"
    }
   ],
   "source": [
    "print(\"Artemis Rover Rock Scanner Starting\")"
   ]
  },
  {
   "source": [
    "Next, we weant to create some varaibles taht will represent the count of the different types of rocks that Artemis foudn on the Moon. The specific rocks that we're looking for are:\n",
    "- Basalt: The Mare Rock\n",
    "- Breccia: Shocked Rock\n",
    "- Highland Rock: Anorthosite\n",
    "- Regolith Soil/Surface Layer.\n",
    "\n",
    "These types are the four main types of rocks foudn on the Moon.\n",
    "\n",
    "Let's make some varibles with names of \"basalt\", \"breccia\", \"highland\", and \"regolith\". We can also set these varaibles to 0 since w've not yet counted any rocks. Finally, make a list called ```rock_list``` that will sotre the names of every rock the rover found. We can make the list empty, setting it equal to brackets with nothing inside them."
   ],
   "cell_type": "markdown",
   "metadata": {}
  },
  {
   "cell_type": "code",
   "execution_count": 15,
   "metadata": {},
   "outputs": [],
   "source": [
    "basalt = 0\n",
    "breccia = 0\n",
    "highland = 0\n",
    "regolith = 0\n",
    "rock_list = []"
   ]
  },
  {
   "source": [
    "# Read in Moon rockdata from a text file for exploration\n",
    "\n",
    "Now that we have some variables made, we can start giving these variables values. We want to count the number of times we see a certain type of rock in the rocks.txt file and add that number to the corresponding varaible. For exmaple if there are 12 basalt rocks that Artemis saved to the text file, then we'll want the basalt variable to be set to 12.\n",
    "\n",
    "Let's start by telling the computer to read in the ```rocks.txt ``` file. To do this, copy the code below. The readline function will read the first line, which is just telling us that we are starting to read the rocks.\n"
   ],
   "cell_type": "markdown",
   "metadata": {}
  },
  {
   "cell_type": "code",
   "execution_count": 16,
   "metadata": {
    "tags": []
   },
   "outputs": [
    {
     "output_type": "stream",
     "name": "stdout",
     "text": "Reading Rocks\n\n"
    }
   ],
   "source": [
    "start_path = \"rocks.txt\"\n",
    "file_object = open(start_path)\n",
    "line = file_object.readline()\n",
    "print(line)"
   ]
  },
  {
   "source": [
    "Now, we can call the readlines() function to put all the lines into our rock_list variable. We'll also print all of the rocks that are in the rocl_list and close the file_object."
   ],
   "cell_type": "markdown",
   "metadata": {}
  },
  {
   "cell_type": "code",
   "execution_count": 17,
   "metadata": {
    "tags": []
   },
   "outputs": [
    {
     "output_type": "stream",
     "name": "stdout",
     "text": "basalt\n\nbreccia\n\nhighland\n\nregolith\n\nhighland\n\nbreccia\n\nhighland\n\nregolith\n\nregolith\n\nbasalt\n\nhighland\n\nbasalt\n\nbreccia\n\nbreccia\n\nregolith\n\nbreccia\n\nhighland\n\nhighland\n\nbreccia\n\nbasalt\n"
    }
   ],
   "source": [
    "rock_list = file_object.readlines()\n",
    "for rock in rock_list:\n",
    "    print(rock)\n",
    "\n",
    "file_object.close()"
   ]
  },
  {
   "source": [
    "Although we're only printing out each rock that we see in a file at this stage, this exercise will set us up perfetly to call a function. This function will look at each rock and add to the corresponding variable if it sees a rock of the correct type."
   ],
   "cell_type": "markdown",
   "metadata": {}
  },
  {
   "source": [
    "# Create a function to count types of Moon rocks found\n",
    "\n",
    "The next step in our application is to add a function that wil look at a line of text, tell us which type of rock it is, and increment the corresponding variable. To start, copy this code:"
   ],
   "cell_type": "markdown",
   "metadata": {}
  },
  {
   "cell_type": "code",
   "execution_count": 18,
   "metadata": {},
   "outputs": [],
   "source": [
    "# TODO add else if statements for breccia, highland and regolith\n",
    "\n",
    "def count_moon_rocks(rock_to_id):\n",
    "    global basalt\n",
    "    global breccia\n",
    "    global highland\n",
    "    global regolith\n",
    "\n",
    "    rock_to_id = rock_to_id.lower()\n",
    "\n",
    "    if \"basalt\" in rock_to_id:\n",
    "        print(\"Found basalt\\n\")\n",
    "        basalt += 1\n",
    "    elif \"breccia\" in rock_to_id:\n",
    "        print(\"Found breaccia\\n\")\n",
    "        breccia += 1\n",
    "    elif \"highland\" in rock_to_id:\n",
    "        print(\"Found highland\\n\")\n",
    "        highland += 1\n",
    "    elif \"regolith\" in rock_to_id:\n",
    "        print(\"Found regolith\\n\")\n",
    "        regolith += 1\n",
    "        "
   ]
  },
  {
   "source": [
    "As you recall, these lines will create a function that has a parameter of a string variable ```rock_to_id``` and returns nothing. We'll be calling the function and passing in one of four rock names: Basalt, Breccia, Highland, or Regolith. We'll need to make each rock type a global variable, to ensure that the variables will remember how many rocks they've counted. To increment the correct variable based on the types of rocks that Artemis found, we'll use if statemens.\n",
    "\n",
    "The code above checks if the string we've passed through to the function has the text \"basalt\". If it does, we'll go into the if statement and print out that we have found a Basalt rock and then increment the variable for Basalt by one."
   ],
   "cell_type": "markdown",
   "metadata": {}
  },
  {
   "source": [
    "# Count the number of Moon rocks calling a Python function\n",
    "\n",
    "Now that we have the function made, we'll need to include a call to it so it will be used. We'll create a for loop to go through every value in ourrock list and call the function with each rock."
   ],
   "cell_type": "markdown",
   "metadata": {}
  },
  {
   "cell_type": "code",
   "execution_count": 19,
   "metadata": {
    "tags": []
   },
   "outputs": [
    {
     "output_type": "stream",
     "name": "stdout",
     "text": "Found basalt\n\nFound breaccia\n\nFound highland\n\nFound regolith\n\nFound highland\n\nFound breaccia\n\nFound highland\n\nFound regolith\n\nFound regolith\n\nFound basalt\n\nFound highland\n\nFound basalt\n\nFound breaccia\n\nFound breaccia\n\nFound regolith\n\nFound breaccia\n\nFound highland\n\nFound highland\n\nFound breaccia\n\nFound basalt\n\n"
    }
   ],
   "source": [
    "for rock in rock_list:\n",
    "    count_moon_rocks(rock)\n",
    "    "
   ]
  },
  {
   "source": [
    "This code will call the function that we've created for each line of text (each rock) that was reported by the rover. The functio nwill add to the count\n",
    "for the corresponding type of rock and store this number in the respective variable.\n",
    "\n",
    "Now that we have all of the rock counts in their variables, we can use some additional code to write summaries about them."
   ],
   "cell_type": "markdown",
   "metadata": {}
  },
  {
   "source": [
    "# Analyze and summarize data in Python\n",
    "\n",
    "Let's start by printing the number of each type of rock we found. For example, to print the number of basaltrocks, copy and paste in the following code:"
   ],
   "cell_type": "markdown",
   "metadata": {}
  },
  {
   "cell_type": "code",
   "execution_count": 20,
   "metadata": {
    "tags": []
   },
   "outputs": [
    {
     "output_type": "stream",
     "name": "stdout",
     "text": "Number of Basalt:  4\nNumber of Breccia:  6\nNumber of Highland:  6\nNumber of Regolith:  4\n"
    }
   ],
   "source": [
    "# TODO Add a print statement for the other types of rocks: breccia, highland and regolith\n",
    "print(\"Number of Basalt: \", basalt)\n",
    "print(\"Number of Breccia: \", breccia)\n",
    "print(\"Number of Highland: \", highland)\n",
    "print(\"Number of Regolith: \", regolith)\n"
   ]
  },
  {
   "source": [
    "As you can see, we first output a string that tells the suer what they'll see. Then we concatenate on the variable name that includes the number of basalt rocks we found.\n",
    "\n",
    "Do the same thing for the four types of rock variables we created.\n",
    "\n",
    "Next, let's provide some more general data, such as the type of rocks that was the most and lest common. In this case, we'll use the max() and min() functions that we learned about before.\n",
    "\n",
    "Try to figure out what you need to do, but if you get stuck read below for the answer:"
   ],
   "cell_type": "markdown",
   "metadata": {}
  },
  {
   "cell_type": "code",
   "execution_count": 23,
   "metadata": {
    "tags": []
   },
   "outputs": [
    {
     "output_type": "stream",
     "name": "stdout",
     "text": "The max number of one type of rock found was:  6\nThe min number of one type of rock found was:  4\n"
    }
   ],
   "source": [
    "print(\"The max number of one type of rock found was: \", max(basalt, breccia, highland, regolith))\n",
    "print(\"The min number of one type of rock found was: \", min(basalt, breccia, highland, regolith))"
   ]
  },
  {
   "source": [
    "Congratulations, you've sucessfully programmed Artemis to give a summary about the different types of rock data that it found."
   ],
   "cell_type": "markdown",
   "metadata": {}
  }
 ]
}