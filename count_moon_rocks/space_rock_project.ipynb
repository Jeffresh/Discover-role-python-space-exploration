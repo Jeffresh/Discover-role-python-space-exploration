{
 "metadata": {
  "language_info": {
   "codemirror_mode": {
    "name": "ipython",
    "version": 3
   },
   "file_extension": ".py",
   "mimetype": "text/x-python",
   "name": "python",
   "nbconvert_exporter": "python",
   "pygments_lexer": "ipython3",
   "version": "3.8.5-final"
  },
  "orig_nbformat": 2,
  "kernelspec": {
   "name": "python_defaultSpec_1600357263313",
   "display_name": "Python 3.8.5 32-bit"
  }
 },
 "nbformat": 4,
 "nbformat_minor": 2,
 "cells": [
  {
   "source": [
    "# Create a Jupyter Notebook to explore data about Moon rocks\n",
    "\n",
    "To start our program, we'll want to let the user know that the program is beginning, by suing the print command to output a string of text."
   ],
   "cell_type": "markdown",
   "metadata": {}
  },
  {
   "cell_type": "code",
   "execution_count": 1,
   "metadata": {
    "tags": []
   },
   "outputs": [
    {
     "output_type": "stream",
     "name": "stdout",
     "text": "Artemis Rover Rock Scanner Starting\n"
    }
   ],
   "source": [
    "print(\"Artemis Rover Rock Scanner Starting\")"
   ]
  },
  {
   "source": [
    "Next, we weant to create some varaibles taht will represent the count of the different types of rocks that Artemis foudn on the Moon. The specific rocks that we're looking for are:\n",
    "- Basalt: The Mare Rock\n",
    "- Breccia: Shocked Rock\n",
    "- Highland Rock: Anorthosite\n",
    "- Regolith Soil/Surface Layer.\n",
    "\n",
    "These types are the four main types of rocks foudn on the Moon.\n",
    "\n",
    "Let's make some varibles with names of \"basalt\", \"breccia\", \"highland\", and \"regolith\". We can also set these varaibles to 0 since w've not yet counted any rocks. Finally, make a list called ```rock_list``` that will sotre the names of every rock the rover found. We can make the list empty, setting it equal to brackets with nothing inside them."
   ],
   "cell_type": "markdown",
   "metadata": {}
  },
  {
   "cell_type": "code",
   "execution_count": null,
   "metadata": {},
   "outputs": [],
   "source": [
    "basalt = 0\n",
    "breccia = 0\n",
    "highland = 0\n",
    "regolith = 0\n",
    "rock_list = []"
   ]
  }
 ]
}