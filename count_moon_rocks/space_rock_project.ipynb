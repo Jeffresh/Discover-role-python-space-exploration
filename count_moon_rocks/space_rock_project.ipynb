{
 "metadata": {
  "language_info": {
   "codemirror_mode": {
    "name": "ipython",
    "version": 3
   },
   "file_extension": ".py",
   "mimetype": "text/x-python",
   "name": "python",
   "nbconvert_exporter": "python",
   "pygments_lexer": "ipython3",
   "version": "3.8.5-final"
  },
  "orig_nbformat": 2,
  "kernelspec": {
   "name": "python_defaultSpec_1600357263313",
   "display_name": "Python 3.8.5 32-bit"
  }
 },
 "nbformat": 4,
 "nbformat_minor": 2,
 "cells": [
  {
   "source": [
    "# Create a Jupyter Notebook to explore data about Moon rocks\n",
    "\n",
    "To start our program, we'll want to let the user know that the program is beginning, by suing the print command to output a string of text."
   ],
   "cell_type": "markdown",
   "metadata": {}
  },
  {
   "cell_type": "code",
   "execution_count": 1,
   "metadata": {
    "tags": []
   },
   "outputs": [
    {
     "output_type": "stream",
     "name": "stdout",
     "text": "Artemis Rover Rock Scanner Starting\n"
    }
   ],
   "source": [
    "print(\"Artemis Rover Rock Scanner Starting\")"
   ]
  },
  {
   "source": [
    "Next, we weant to create some varaibles taht will represent the count of the different types of rocks that Artemis foudn on the Moon. The specific rocks that we're looking for are:\n",
    "- Basalt: The Mare Rock\n",
    "- Breccia: Shocked Rock\n",
    "- Highland Rock: Anorthosite\n",
    "- Regolith Soil/Surface Layer.\n",
    "\n",
    "These types are the four main types of rocks foudn on the Moon.\n",
    "\n",
    "Let's make some varibles with names of \"basalt\", \"breccia\", \"highland\", and \"regolith\". We can also set these varaibles to 0 since w've not yet counted any rocks. Finally, make a list called ```rock_list``` that will sotre the names of every rock the rover found. We can make the list empty, setting it equal to brackets with nothing inside them."
   ],
   "cell_type": "markdown",
   "metadata": {}
  },
  {
   "cell_type": "code",
   "execution_count": null,
   "metadata": {},
   "outputs": [],
   "source": [
    "basalt = 0\n",
    "breccia = 0\n",
    "highland = 0\n",
    "regolith = 0\n",
    "rock_list = []"
   ]
  },
  {
   "source": [
    "# Read in Moon rockdata from a text file for exploration\n",
    "\n",
    "Now that we have some variables made, we can start giving these variables values. We want to count the number of times we see a certain type of rock in the rocks.txt file and add that number to the corresponding varaible. For exmaple if there are 12 basalt rocks that Artemis saved to the text file, then we'll want the basalt variable to be set to 12.\n",
    "\n",
    "Let's start by telling the computer to read in the ```rocks.txt ``` file. To do this, copy the code below. The readline function will read the first line, which is just telling us that we are starting to read the rocks.\n"
   ],
   "cell_type": "markdown",
   "metadata": {}
  },
  {
   "cell_type": "code",
   "execution_count": 7,
   "metadata": {
    "tags": []
   },
   "outputs": [
    {
     "output_type": "stream",
     "name": "stdout",
     "text": "Reading Rocks\n\n"
    }
   ],
   "source": [
    "start_path = \"rocks.txt\"\n",
    "file_object = open(start_path)\n",
    "line = file_object.readline()\n",
    "print(line)"
   ]
  },
  {
   "source": [
    "Now, we can call the readlines() function to put all the lines into our rock_list variable. We'll also print all of the rocks that are in the rocl_list and close the file_object."
   ],
   "cell_type": "markdown",
   "metadata": {}
  },
  {
   "cell_type": "code",
   "execution_count": 9,
   "metadata": {
    "tags": []
   },
   "outputs": [
    {
     "output_type": "error",
     "ename": "ValueError",
     "evalue": "I/O operation on closed file.",
     "traceback": [
      "\u001b[1;31m---------------------------------------------------------------------------\u001b[0m",
      "\u001b[1;31mValueError\u001b[0m                                Traceback (most recent call last)",
      "\u001b[1;32m<ipython-input-9-272d6a60b507>\u001b[0m in \u001b[0;36m<module>\u001b[1;34m\u001b[0m\n\u001b[1;32m----> 1\u001b[1;33m \u001b[0mrock_list\u001b[0m \u001b[1;33m=\u001b[0m \u001b[0mfile_object\u001b[0m\u001b[1;33m.\u001b[0m\u001b[0mreadlines\u001b[0m\u001b[1;33m(\u001b[0m\u001b[1;33m)\u001b[0m\u001b[1;33m\u001b[0m\u001b[1;33m\u001b[0m\u001b[0m\n\u001b[0m\u001b[0;32m      2\u001b[0m \u001b[1;32mfor\u001b[0m \u001b[0mrock\u001b[0m \u001b[1;32min\u001b[0m \u001b[0mrock_list\u001b[0m\u001b[1;33m:\u001b[0m\u001b[1;33m\u001b[0m\u001b[1;33m\u001b[0m\u001b[0m\n\u001b[0;32m      3\u001b[0m     \u001b[0mprint\u001b[0m\u001b[1;33m(\u001b[0m\u001b[0mrock\u001b[0m\u001b[1;33m)\u001b[0m\u001b[1;33m\u001b[0m\u001b[1;33m\u001b[0m\u001b[0m\n\u001b[0;32m      4\u001b[0m \u001b[1;33m\u001b[0m\u001b[0m\n\u001b[0;32m      5\u001b[0m \u001b[0mfile_object\u001b[0m\u001b[1;33m.\u001b[0m\u001b[0mclose\u001b[0m\u001b[1;33m(\u001b[0m\u001b[1;33m)\u001b[0m\u001b[1;33m\u001b[0m\u001b[1;33m\u001b[0m\u001b[0m\n",
      "\u001b[1;31mValueError\u001b[0m: I/O operation on closed file."
     ]
    }
   ],
   "source": [
    "rock_list = file_object.readlines()\n",
    "for rock in rock_list:\n",
    "    print(rock)\n",
    "\n",
    "file_object.close()"
   ]
  },
  {
   "source": [
    "Although we're only printing out each rock that we see in a file at this stage, this exercise will set us up perfetly to call a function. This function will look at each rock and add to the corresponding variable if it sees a rock of the correct type."
   ],
   "cell_type": "markdown",
   "metadata": {}
  }
 ]
}